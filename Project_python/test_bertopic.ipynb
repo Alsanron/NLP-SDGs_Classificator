{
 "cells": [
  {
   "cell_type": "code",
   "execution_count": 1,
   "metadata": {},
   "outputs": [
    {
     "name": "stdout",
     "output_type": "stream",
     "text": [
      "- 510 sdgs files were found\n",
      "- 164 nature abstracts were found\n",
      "- 186 nature files were found\n",
      "- 434 texts in the pathfinder dataset\n",
      "- 34 manual files were found\n",
      "- 2000 health care texts\n"
     ]
    }
   ],
   "source": [
    "# script for testing the bertopic functionality and classes\n",
    "from bertopic import BERTopic\n",
    "from logging import error\n",
    "import data\n",
    "import conf\n",
    "import pandas as pd\n",
    "import tools\n",
    "import model\n",
    "import json\n",
    "import os\n",
    "from sentence_transformers import SentenceTransformer\n",
    "\n",
    "paths = conf.get_paths()\n",
    "raw_orgFiles, sdgs_orgFiles = data.get_sdgs_org_files(paths[\"SDGs_inf\"])\n",
    "raw_natureShort, sdgs_nature, index_abstracts = data.get_nature_abstracts()\n",
    "raw_natureExt, sdgs_natureAll, index_full = data.get_nature_files(abstract=True, kw=True, intro=True, body=True, concl=True)\n",
    "raw_pathFinder, sdgs_pathFinder = data.get_sdgs_pathfinder(paths[\"ref\"], min_words=200)\n",
    "raw_extraFiles, sdgs_extra = data.get_extra_manual_files(paths[\"ref\"])\n",
    "raw_healthcare, sdgs_healthcare = data.get_health_care_files(paths[\"ref\"], n_files=100)\n",
    "\n",
    "def prepare_texts(corpus):\n",
    "    newCorpus = []\n",
    "    for text in corpus:\n",
    "        newCorpus.append(\" \".join(tools.tokenize_text(text, lemmatize=False, stem=False ,extended_stopwords=True)))\n",
    "    return newCorpus\n",
    "        \n",
    "# trainFiles = prepare_texts(raw_trainFiles)\n",
    "orgFiles = prepare_texts(raw_orgFiles)\n",
    "extraFiles = prepare_texts(raw_extraFiles)\n",
    "healthcareFiles = prepare_texts(raw_healthcare)\n",
    "natureShort = prepare_texts(raw_natureShort)\n",
    "natureExt = prepare_texts(raw_natureExt)\n",
    "\n",
    "sdgs_seed_list = data.get_sdgs_seed_list(paths[\"ref\"])\n",
    "\n",
    "sentence_model = SentenceTransformer(\"all-MiniLM-L6-v2\")"
   ]
  },
  {
   "cell_type": "code",
   "execution_count": 21,
   "metadata": {},
   "outputs": [
    {
     "name": "stderr",
     "output_type": "stream",
     "text": [
      "Batches: 100%|██████████| 21/21 [00:28<00:00,  1.34s/it]\n",
      "2022-05-07 11:17:38,775 - BERTopic - Transformed documents to Embeddings\n",
      "Batches: 100%|██████████| 1/1 [00:00<00:00, 26.89it/s]\n",
      "2022-05-07 11:17:43,820 - BERTopic - Reduced dimensionality\n",
      "2022-05-07 11:17:43,915 - BERTopic - Clustered reduced embeddings\n"
     ]
    },
    {
     "ename": "AttributeError",
     "evalue": "'BERTopic' object has no attribute 'get_num_topics'",
     "output_type": "error",
     "traceback": [
      "\u001b[1;31m---------------------------------------------------------------------------\u001b[0m",
      "\u001b[1;31mAttributeError\u001b[0m                            Traceback (most recent call last)",
      "\u001b[1;32m~\\AppData\\Local\\Temp/ipykernel_11256/2959997492.py\u001b[0m in \u001b[0;36m<module>\u001b[1;34m\u001b[0m\n\u001b[0;32m      7\u001b[0m \u001b[1;33m\u001b[0m\u001b[0m\n\u001b[0;32m      8\u001b[0m \u001b[1;31m# TODO: try to generate a methodology for assigning labels to the training texts in order t oclassify them?\u001b[0m\u001b[1;33m\u001b[0m\u001b[1;33m\u001b[0m\u001b[0m\n\u001b[1;32m----> 9\u001b[1;33m \u001b[0mtopic_model\u001b[0m\u001b[1;33m.\u001b[0m\u001b[0mtrain_global_model\u001b[0m\u001b[1;33m(\u001b[0m\u001b[0mtrainData\u001b[0m\u001b[1;33m,\u001b[0m \u001b[0mseed_topic_list\u001b[0m\u001b[1;33m=\u001b[0m\u001b[0msdgs_seed_list\u001b[0m\u001b[1;33m)\u001b[0m\u001b[1;33m\u001b[0m\u001b[1;33m\u001b[0m\u001b[0m\n\u001b[0m\u001b[0;32m     10\u001b[0m \u001b[1;31m# topic_model.load_global_model()\u001b[0m\u001b[1;33m\u001b[0m\u001b[1;33m\u001b[0m\u001b[0m\n\u001b[0;32m     11\u001b[0m \u001b[1;31m# topic_model.map_model_topics_to_sdgs(associated_sdgs=trainData[1])\u001b[0m\u001b[1;33m\u001b[0m\u001b[1;33m\u001b[0m\u001b[0m\n",
      "\u001b[1;32mc:\\Users\\alexs\\Documents\\OneDrive - UPV\\TFM\\Repositories\\NLP-SDGs_Classificator\\Project_python\\model.py\u001b[0m in \u001b[0;36mtrain_global_model\u001b[1;34m(self, train_data, embedding_model, n_gram_range, top_n_words, workers, calculate_probabilities, seed_topic_list)\u001b[0m\n\u001b[0;32m    900\u001b[0m                         \u001b[0mseed_topic_list\u001b[0m\u001b[1;33m=\u001b[0m\u001b[0mseed_topic_list\u001b[0m\u001b[1;33m,\u001b[0m\u001b[1;33m\u001b[0m\u001b[1;33m\u001b[0m\u001b[0m\n\u001b[0;32m    901\u001b[0m                         verbose=True)\n\u001b[1;32m--> 902\u001b[1;33m         \u001b[1;31m# TODO: 1 - Adjust the ngram range\u001b[0m\u001b[1;33m\u001b[0m\u001b[1;33m\u001b[0m\u001b[0m\n\u001b[0m\u001b[0;32m    903\u001b[0m \u001b[1;33m\u001b[0m\u001b[0m\n\u001b[0;32m    904\u001b[0m         \u001b[1;31m# TODO: try to generate a methodology for assigning labels to the training texts in order t oclassify them?\u001b[0m\u001b[1;33m\u001b[0m\u001b[1;33m\u001b[0m\u001b[0m\n",
      "\u001b[1;32mc:\\Users\\alexs\\Documents\\OneDrive - UPV\\TFM\\Repositories\\NLP-SDGs_Classificator\\Project_python\\model.py\u001b[0m in \u001b[0;36mprint_model_summary\u001b[1;34m(self)\u001b[0m\n\u001b[0;32m   1035\u001b[0m \u001b[1;33m\u001b[0m\u001b[0m\n\u001b[0;32m   1036\u001b[0m     \u001b[1;32mdef\u001b[0m \u001b[0mprint_model_summary\u001b[0m\u001b[1;33m(\u001b[0m\u001b[0mself\u001b[0m\u001b[1;33m)\u001b[0m\u001b[1;33m:\u001b[0m\u001b[1;33m\u001b[0m\u001b[1;33m\u001b[0m\u001b[0m\n\u001b[1;32m-> 1037\u001b[1;33m         \u001b[1;31m# print('####### Model summary:')\u001b[0m\u001b[1;33m\u001b[0m\u001b[1;33m\u001b[0m\u001b[0m\n\u001b[0m\u001b[0;32m   1038\u001b[0m         \u001b[0minfo\u001b[0m \u001b[1;33m=\u001b[0m \u001b[0mself\u001b[0m\u001b[1;33m.\u001b[0m\u001b[0mglobal_model\u001b[0m\u001b[1;33m.\u001b[0m\u001b[0mget_topics\u001b[0m\u001b[1;33m(\u001b[0m\u001b[1;33m)\u001b[0m\u001b[1;33m\u001b[0m\u001b[1;33m\u001b[0m\u001b[0m\n\u001b[0;32m   1039\u001b[0m         \u001b[0mnTopics\u001b[0m \u001b[1;33m=\u001b[0m \u001b[0mlen\u001b[0m\u001b[1;33m(\u001b[0m\u001b[0minfo\u001b[0m\u001b[1;33m)\u001b[0m\u001b[1;33m\u001b[0m\u001b[1;33m\u001b[0m\u001b[0m\n",
      "\u001b[1;31mAttributeError\u001b[0m: 'BERTopic' object has no attribute 'get_num_topics'"
     ]
    }
   ],
   "source": [
    "# trainData = [raw_orgFiles + raw_extraFiles + raw_healthcare, sdgs_orgFiles + sdgs_extra + sdgs_healthcare]\n",
    "trainData = [orgFiles + extraFiles + healthcareFiles, sdgs_orgFiles + sdgs_extra + sdgs_healthcare]\n",
    "# trainData = [raw_orgFiles, sdgs_orgFiles]\n",
    "topic_model = model.BERTopic_classifier(paths)\n",
    "\n",
    "# inherit the whole class?\n",
    "\n",
    "# TODO: try to generate a methodology for assigning labels to the training texts in order t oclassify them?\n",
    "topic_model.train_global_model(trainData, seed_topic_list=sdgs_seed_list)\n",
    "# topic_model.load_global_model()\n",
    "# topic_model.map_model_topics_to_sdgs(associated_sdgs=trainData[1])"
   ]
  },
  {
   "cell_type": "code",
   "execution_count": 24,
   "metadata": {},
   "outputs": [
    {
     "data": {
      "application/vnd.plotly.v1+json": {
       "config": {
        "plotlyServerURL": "https://plot.ly"
       },
       "data": [
        {
         "marker": {
          "color": "#D55E00"
         },
         "orientation": "h",
         "type": "bar",
         "x": [
          0.005564615409075215,
          0.0058298510036230485,
          0.005840072593498569,
          0.00585129133461426,
          0.006110269528051828,
          0.006123955209389022,
          0.006123955209389022,
          0.006183024680718999,
          0.006271481868454666,
          0.006382990623224422,
          0.00640213682336826,
          0.006527636623356684,
          0.006531011975580338,
          0.008128283316661024,
          0.00851115886983516,
          0.009296526044751105,
          0.009776431244882925,
          0.010194688606557286,
          0.011347025431726953,
          0.011948184306709117
         ],
         "xaxis": "x",
         "y": [
          "production  ",
          "presence  ",
          "plasma  ",
          "similar  ",
          "results  ",
          "studied  ",
          "concentrations  ",
          "degrees  ",
          "rate  ",
          "cell  ",
          "greater  ",
          "increase  ",
          "protein  ",
          "blood  ",
          "effect  ",
          "concentration  ",
          "enzyme  ",
          "acid  ",
          "activity  ",
          "cells  "
         ],
         "yaxis": "y"
        },
        {
         "marker": {
          "color": "#0072B2"
         },
         "orientation": "h",
         "type": "bar",
         "x": [
          0.008630602255940416,
          0.008746239373818914,
          0.009112514366393652,
          0.009476626913076398,
          0.009566039276943002,
          0.009580544269253467,
          0.010184751251234608,
          0.010794136906306944,
          0.011072330342981973,
          0.011072330342981973,
          0.01109444483281448,
          0.011848904272651428,
          0.01240022921043596,
          0.01300686350830384,
          0.013706096881522876,
          0.015179587650362623,
          0.019877940507081554,
          0.022827088414566196,
          0.023639383255582243,
          0.04287551304438224
         ],
         "xaxis": "x2",
         "y": [
          "globally  ",
          "years  ",
          "communicable diseases  ",
          "malaria  ",
          "live  ",
          "tuberculosis  ",
          "hiv  ",
          "countries  ",
          "live births  ",
          "communicable  ",
          "maternal  ",
          "rate  ",
          "mental  ",
          "disease  ",
          "care  ",
          "births  ",
          "diseases  ",
          "mortality  ",
          "deaths  ",
          "health  "
         ],
         "yaxis": "y2"
        },
        {
         "marker": {
          "color": "#CC79A7"
         },
         "orientation": "h",
         "type": "bar",
         "x": [
          0.009738305339563408,
          0.009823572441734225,
          0.010340602570246554,
          0.010474611997037066,
          0.010568568845207977,
          0.011177539253957387,
          0.011225273192826762,
          0.011374662827271209,
          0.012303025361755319,
          0.01266241154592345,
          0.013460302866219057,
          0.013612739886504114,
          0.013735054960544689,
          0.015101674463715598,
          0.015152110263635147,
          0.0159579755039976,
          0.016376275854597833,
          0.016757497841941235,
          0.03546723327352614,
          0.05229927940188341
         ],
         "xaxis": "x3",
         "y": [
          "access  ",
          "housing  ",
          "urbanization  ",
          "pollution  ",
          "driver  ",
          "safe  ",
          "sustainable  ",
          "spaces  ",
          "living  ",
          "urban population  ",
          "public transport  ",
          "waste  ",
          "air  ",
          "transport  ",
          "slums  ",
          "public  ",
          "population  ",
          "fatigue  ",
          "cities  ",
          "urban  "
         ],
         "yaxis": "y3"
        },
        {
         "marker": {
          "color": "#E69F00"
         },
         "orientation": "h",
         "type": "bar",
         "x": [
          0.009934800560829344,
          0.01055405436547796,
          0.010617066661757673,
          0.011670665253533353,
          0.01236087251413322,
          0.012551770119633803,
          0.012649267454725386,
          0.013029453790082579,
          0.013537749923437698,
          0.01358823963473375,
          0.014369013924633165,
          0.016190611955883633,
          0.016998399069081033,
          0.019936988522536413,
          0.02005905347935299,
          0.020634476900915768,
          0.022890139609078118,
          0.02312255114308785,
          0.025866446135470615,
          0.02588904179527331
         ],
         "xaxis": "x4",
         "y": [
          "information  ",
          "forms  ",
          "proportion  ",
          "inclusive  ",
          "years  ",
          "access  ",
          "public  ",
          "national  ",
          "access justice  ",
          "trafficking  ",
          "sexual  ",
          "human  ",
          "human rights  ",
          "children  ",
          "victims  ",
          "justice  ",
          "rights  ",
          "institutions  ",
          "violence  ",
          "countries  "
         ],
         "yaxis": "y4"
        },
        {
         "marker": {
          "color": "#56B4E9"
         },
         "orientation": "h",
         "type": "bar",
         "x": [
          0.014784500802057511,
          0.0150059992001554,
          0.015095901742207192,
          0.016165164092477435,
          0.01675966086877552,
          0.017220667692076686,
          0.018477725238224437,
          0.01999114030375791,
          0.01999114030375791,
          0.020355730121166055,
          0.021434389537439272,
          0.023427662586066832,
          0.023862627763082973,
          0.02523906818653773,
          0.026083855134909458,
          0.0261653753319978,
          0.02754147338758273,
          0.027648307295444766,
          0.02990875434455882,
          0.05664239448497854
         ],
         "xaxis": "x5",
         "y": [
          "economic  ",
          "innovation  ",
          "research  ",
          "developing countries  ",
          "employment  ",
          "industries  ",
          "development  ",
          "manufacturing value added  ",
          "manufacturing value  ",
          "developed countries  ",
          "gdp  ",
          "global  ",
          "developed  ",
          "added  ",
          "value added  ",
          "value  ",
          "developing  ",
          "infrastructure  ",
          "countries  ",
          "manufacturing  "
         ],
         "yaxis": "y5"
        },
        {
         "marker": {
          "color": "#009E73"
         },
         "orientation": "h",
         "type": "bar",
         "x": [
          0.011842641605388844,
          0.011842641605388844,
          0.011842641605388844,
          0.011842641605388844,
          0.012273120874291664,
          0.012389343418348438,
          0.012816526127357787,
          0.013321363071682373,
          0.013445966467163579,
          0.01373067382650242,
          0.01829842753143229,
          0.01882209856508837,
          0.01905436073876396,
          0.0190955656748717,
          0.019333448223648853,
          0.020232906512768954,
          0.022307824873440983,
          0.031193129463682686,
          0.03748100739688849,
          0.056609695209218935
         ],
         "xaxis": "x6",
         "y": [
          "female genital mutilation  ",
          "female genital  ",
          "genital mutilation  ",
          "genital  ",
          "mutilation  ",
          "rights  ",
          "married  ",
          "work  ",
          "female  ",
          "legal  ",
          "marriage  ",
          "gender equality  ",
          "equality  ",
          "countries  ",
          "sexual  ",
          "violence  ",
          "women girls  ",
          "gender  ",
          "girls  ",
          "women  "
         ],
         "yaxis": "y6"
        },
        {
         "marker": {
          "color": "#F0E442"
         },
         "orientation": "h",
         "type": "bar",
         "x": [
          0.01064800970069394,
          0.01064800970069394,
          0.01064800970069394,
          0.01099449485911431,
          0.011477949971999456,
          0.011494244625437688,
          0.011725723077888443,
          0.011912059686285012,
          0.012643592625440042,
          0.013551248361149296,
          0.013551248361149296,
          0.014501231559617129,
          0.015295156245010358,
          0.015680730246472756,
          0.018433402746001196,
          0.020530493226394997,
          0.022508619536427587,
          0.027435236441101192,
          0.03479260225473363,
          0.059897411533703905
         ],
         "xaxis": "x7",
         "y": [
          "marine resources  ",
          "eutrophication  ",
          "fish stocks  ",
          "overfishing  ",
          "biodiversity  ",
          "ocean acidification  ",
          "areas  ",
          "stocks  ",
          "ecosystems  ",
          "acidification  ",
          "fishing  ",
          "resources  ",
          "pollution  ",
          "fish  ",
          "fisheries  ",
          "sustainable  ",
          "coastal  ",
          "oceans  ",
          "ocean  ",
          "marine  "
         ],
         "yaxis": "y7"
        },
        {
         "marker": {
          "color": "#D55E00"
         },
         "orientation": "h",
         "type": "bar",
         "x": [
          0.010945205185129873,
          0.011733829056276334,
          0.011954423225156541,
          0.012241649965049149,
          0.0134027675434958,
          0.01426055501800079,
          0.014378200267612875,
          0.015036332030180708,
          0.015774768735614744,
          0.015805207550470223,
          0.016466842268472445,
          0.01759857497254026,
          0.021479529322327263,
          0.021883153721538328,
          0.022286054289474173,
          0.02331336212941955,
          0.029728463833130523,
          0.03079202321706966,
          0.03651581526322766,
          0.049920355043399846
         ],
         "xaxis": "x8",
         "y": [
          "land degradation  ",
          "resources  ",
          "desertification  ",
          "sustainable  ",
          "mountain  ",
          "extinction  ",
          "degradation  ",
          "ecosystems  ",
          "area  ",
          "protected  ",
          "terrestrial  ",
          "conservation  ",
          "loss  ",
          "forests  ",
          "wildlife  ",
          "areas  ",
          "forest  ",
          "species  ",
          "land  ",
          "biodiversity  "
         ],
         "yaxis": "y8"
        },
        {
         "marker": {
          "color": "#0072B2"
         },
         "orientation": "h",
         "type": "bar",
         "x": [
          0.009190507563669117,
          0.009357774429333431,
          0.009357774429333431,
          0.009712556122252617,
          0.009884874504864766,
          0.00994781894852663,
          0.010736078534035581,
          0.011301135298984823,
          0.011526506021105587,
          0.012026439179169224,
          0.01228051583604308,
          0.012382194470682392,
          0.012407185210953308,
          0.013607649555923345,
          0.013915454293293708,
          0.015977363737364008,
          0.020717369627139368,
          0.0257795478203691,
          0.03336453721410875,
          0.05155531377155591
         ],
         "xaxis": "x9",
         "y": [
          "overweight  ",
          "undernourished  ",
          "producers  ",
          "markets  ",
          "aid  ",
          "food production  ",
          "breeds  ",
          "wasting  ",
          "insecurity  ",
          "production  ",
          "genetic  ",
          "world  ",
          "food insecurity  ",
          "malnutrition  ",
          "export  ",
          "children  ",
          "agriculture  ",
          "agricultural  ",
          "hunger  ",
          "food  "
         ],
         "yaxis": "y9"
        },
        {
         "marker": {
          "color": "#CC79A7"
         },
         "orientation": "h",
         "type": "bar",
         "x": [
          0.014245790330009618,
          0.014245790330009618,
          0.014702477411945582,
          0.014934875707884106,
          0.014955892073576732,
          0.014955892073576732,
          0.015282548676759515,
          0.015377547261546,
          0.015893850623829895,
          0.01607316564081147,
          0.016819470580977932,
          0.01851924587777629,
          0.0190143918897832,
          0.01958336827461228,
          0.02324366883104623,
          0.023516119531332872,
          0.03265128829161582,
          0.04236647124380541,
          0.043704531249202955,
          0.06560029061119074
         ],
         "xaxis": "x10",
         "y": [
          "saharan  ",
          "sub saharan  ",
          "skills  ",
          "schools  ",
          "mathematics  ",
          "teachers  ",
          "primary education  ",
          "secondary education  ",
          "primary school  ",
          "quality  ",
          "primary secondary  ",
          "reading  ",
          "proficiency  ",
          "countries  ",
          "secondary  ",
          "learning  ",
          "children  ",
          "school  ",
          "primary  ",
          "education  "
         ],
         "yaxis": "y10"
        },
        {
         "marker": {
          "color": "#E69F00"
         },
         "orientation": "h",
         "type": "bar",
         "x": [
          0.012459714050183012,
          0.012650398386095081,
          0.012796014012264465,
          0.013037811949366415,
          0.013266527264595073,
          0.013881352461123167,
          0.01424701605508122,
          0.01459721766216647,
          0.0146139935933009,
          0.015023809302303215,
          0.015416293048327976,
          0.015824508793559,
          0.016475130422896406,
          0.016933452448950833,
          0.020814857956464514,
          0.02125651309220438,
          0.022253215490942346,
          0.028907874499578812,
          0.03345227928348191,
          0.03360629267550524
         ],
         "xaxis": "x11",
         "y": [
          "regions  ",
          "trade  ",
          "workers  ",
          "gdp  ",
          "unemployment rate  ",
          "developed  ",
          "adults  ",
          "economic growth  ",
          "countries  ",
          "economic  ",
          "financial  ",
          "youth  ",
          "global  ",
          "labour productivity  ",
          "productivity  ",
          "rate  ",
          "unemployment  ",
          "growth  ",
          "labour  ",
          "employment  "
         ],
         "yaxis": "y11"
        },
        {
         "marker": {
          "color": "#56B4E9"
         },
         "orientation": "h",
         "type": "bar",
         "x": [
          0.009701099593006302,
          0.01059700869725148,
          0.01066479091516061,
          0.010695414236513368,
          0.011417857288467347,
          0.011936850801579501,
          0.012840950471239542,
          0.013059963069498916,
          0.013916244777104046,
          0.015203527907413044,
          0.01601754903808992,
          0.01630088057879843,
          0.022987118299543446,
          0.024570467730787422,
          0.025869799366619605,
          0.02713988958056897,
          0.03018926237561273,
          0.03146218428942292,
          0.0380606635805854,
          0.07519446696105941
         ],
         "xaxis": "x12",
         "y": [
          "persons  ",
          "protection systems  ",
          "poor vulnerable  ",
          "social protection systems  ",
          "benefits  ",
          "workers  ",
          "economic  ",
          "population  ",
          "countries  ",
          "disasters  ",
          "vulnerable  ",
          "disaster  ",
          "living  ",
          "poor  ",
          "protection  ",
          "social protection  ",
          "extreme poverty  ",
          "extreme  ",
          "social  ",
          "poverty  "
         ],
         "yaxis": "y12"
        },
        {
         "marker": {
          "color": "#009E73"
         },
         "orientation": "h",
         "type": "bar",
         "x": [
          0.012336129107295288,
          0.012865664211712459,
          0.012886829528653733,
          0.012912695727197523,
          0.012912695727197523,
          0.013737867891574392,
          0.013854779835484877,
          0.0147264766430343,
          0.014855116183020472,
          0.015128818174332741,
          0.015495234872637027,
          0.016806783375463537,
          0.018643325547530145,
          0.020613450269982604,
          0.02430593405453085,
          0.024957687176558035,
          0.025191507320201208,
          0.030612745993539588,
          0.05932237866813186,
          0.11397063568876628
         ],
         "xaxis": "x13",
         "y": [
          "integrated water resources  ",
          "access  ",
          "asia  ",
          "water resources management  ",
          "resources management  ",
          "transboundary  ",
          "facilities  ",
          "services  ",
          "basic  ",
          "resources  ",
          "wastewater  ",
          "water resources  ",
          "countries  ",
          "safely  ",
          "management  ",
          "water sanitation  ",
          "drinking water  ",
          "drinking  ",
          "sanitation  ",
          "water  "
         ],
         "yaxis": "y13"
        },
        {
         "marker": {
          "color": "#F0E442"
         },
         "orientation": "h",
         "type": "bar",
         "x": [
          0.013497828179361286,
          0.014370046728091878,
          0.016619411413014665,
          0.017013437471474928,
          0.01709459974450669,
          0.017488636109335164,
          0.019288862534383878,
          0.019610500851205113,
          0.01964846886443266,
          0.02034465126392988,
          0.02062033201381587,
          0.021477176708840605,
          0.0226291630746026,
          0.026039964421418232,
          0.028769015571752914,
          0.03035794490796716,
          0.03614568623117674,
          0.04136994456064305,
          0.0495073834041703,
          0.1251609014052569
         ],
         "xaxis": "x14",
         "y": [
          "clean energy  ",
          "renewable energy energy  ",
          "energy energy  ",
          "modern  ",
          "access clean  ",
          "technologies  ",
          "access electricity  ",
          "energy efficiency  ",
          "consumption  ",
          "global  ",
          "efficiency  ",
          "cooking  ",
          "fuels  ",
          "energy consumption  ",
          "clean  ",
          "access  ",
          "renewable energy  ",
          "electricity  ",
          "renewable  ",
          "energy  "
         ],
         "yaxis": "y14"
        },
        {
         "marker": {
          "color": "#D55E00"
         },
         "orientation": "h",
         "type": "bar",
         "x": [
          0.014257224406470686,
          0.014850774931044875,
          0.015010263841827104,
          0.015333465846305273,
          0.01558829647176521,
          0.01602778119434725,
          0.016196821316357458,
          0.016634636309321514,
          0.017133572372583786,
          0.01720306687967296,
          0.017768649479001235,
          0.017776032866620783,
          0.01819004581918635,
          0.0190696528553736,
          0.025048612213311793,
          0.025694405728219134,
          0.03442795098930254,
          0.04231333081197465,
          0.05290996363053946,
          0.07150932740999502
         ],
         "xaxis": "x15",
         "y": [
          "emissions  ",
          "convention  ",
          "global  ",
          "framework  ",
          "national adaptation  ",
          "paris agreement  ",
          "developing  ",
          "framework convention  ",
          "paris  ",
          "nationally contributions  ",
          "national  ",
          "contributions  ",
          "agreement  ",
          "nationally  ",
          "parties  ",
          "countries  ",
          "adaptation  ",
          "change  ",
          "climate change  ",
          "climate  "
         ],
         "yaxis": "y15"
        },
        {
         "marker": {
          "color": "#0072B2"
         },
         "orientation": "h",
         "type": "bar",
         "x": [
          0.012634006371977511,
          0.012704630728969254,
          0.013549544310624034,
          0.013728673240824584,
          0.01375331070248477,
          0.01375331070248477,
          0.013859495506567506,
          0.014724523815656589,
          0.01697989662663355,
          0.01697989662663355,
          0.017608694748605817,
          0.017608694748605817,
          0.018782190336769585,
          0.02205699959167899,
          0.023230938671595563,
          0.025391293308490197,
          0.02884247768260061,
          0.034430425516224814,
          0.044186755871837305,
          0.04520226727613747
         ],
         "xaxis": "x16",
         "y": [
          "metric  ",
          "resources  ",
          "countries  ",
          "waste  ",
          "domestic material consumption  ",
          "domestic material  ",
          "companies  ",
          "developing  ",
          "material consumption  ",
          "sustainable consumption production  ",
          "material footprint  ",
          "sustainable consumption  ",
          "tons  ",
          "consumption production  ",
          "footprint  ",
          "capita  ",
          "production  ",
          "sustainable  ",
          "material  ",
          "consumption  "
         ],
         "yaxis": "y16"
        },
        {
         "marker": {
          "color": "#CC79A7"
         },
         "orientation": "h",
         "type": "bar",
         "x": [
          0.011705178085150524,
          0.011724865063487282,
          0.011938257133067775,
          0.012009505738524391,
          0.012009505738524391,
          0.0122325336296286,
          0.012485453666670992,
          0.012892455869008073,
          0.01313309488501126,
          0.013247819445919615,
          0.01555838393296201,
          0.016477160719748477,
          0.01716846665193537,
          0.018490089634846916,
          0.02564651777224688,
          0.025771540591209563,
          0.026317437471214598,
          0.02734538089316223,
          0.04358886510986283,
          0.05059436915784734
         ],
         "xaxis": "x17",
         "y": [
          "products  ",
          "migration  ",
          "exports  ",
          "policies  ",
          "states  ",
          "reduce  ",
          "inequalities  ",
          "money  ",
          "assistance  ",
          "international  ",
          "free  ",
          "duty free  ",
          "duty  ",
          "inequality  ",
          "income  ",
          "developed countries  ",
          "developed  ",
          "developing countries  ",
          "developing  ",
          "countries  "
         ],
         "yaxis": "y17"
        }
       ],
       "layout": {
        "annotations": [
         {
          "font": {
           "size": 16
          },
          "showarrow": false,
          "text": "Topic 0",
          "x": 0.0875,
          "xanchor": "center",
          "xref": "paper",
          "y": 0.9999999999999999,
          "yanchor": "bottom",
          "yref": "paper"
         },
         {
          "font": {
           "size": 16
          },
          "showarrow": false,
          "text": "Topic 1",
          "x": 0.36250000000000004,
          "xanchor": "center",
          "xref": "paper",
          "y": 0.9999999999999999,
          "yanchor": "bottom",
          "yref": "paper"
         },
         {
          "font": {
           "size": 16
          },
          "showarrow": false,
          "text": "Topic 2",
          "x": 0.6375000000000001,
          "xanchor": "center",
          "xref": "paper",
          "y": 0.9999999999999999,
          "yanchor": "bottom",
          "yref": "paper"
         },
         {
          "font": {
           "size": 16
          },
          "showarrow": false,
          "text": "Topic 3",
          "x": 0.9125,
          "xanchor": "center",
          "xref": "paper",
          "y": 0.9999999999999999,
          "yanchor": "bottom",
          "yref": "paper"
         },
         {
          "font": {
           "size": 16
          },
          "showarrow": false,
          "text": "Topic 4",
          "x": 0.0875,
          "xanchor": "center",
          "xref": "paper",
          "y": 0.7839999999999999,
          "yanchor": "bottom",
          "yref": "paper"
         },
         {
          "font": {
           "size": 16
          },
          "showarrow": false,
          "text": "Topic 5",
          "x": 0.36250000000000004,
          "xanchor": "center",
          "xref": "paper",
          "y": 0.7839999999999999,
          "yanchor": "bottom",
          "yref": "paper"
         },
         {
          "font": {
           "size": 16
          },
          "showarrow": false,
          "text": "Topic 6",
          "x": 0.6375000000000001,
          "xanchor": "center",
          "xref": "paper",
          "y": 0.7839999999999999,
          "yanchor": "bottom",
          "yref": "paper"
         },
         {
          "font": {
           "size": 16
          },
          "showarrow": false,
          "text": "Topic 7",
          "x": 0.9125,
          "xanchor": "center",
          "xref": "paper",
          "y": 0.7839999999999999,
          "yanchor": "bottom",
          "yref": "paper"
         },
         {
          "font": {
           "size": 16
          },
          "showarrow": false,
          "text": "Topic 8",
          "x": 0.0875,
          "xanchor": "center",
          "xref": "paper",
          "y": 0.568,
          "yanchor": "bottom",
          "yref": "paper"
         },
         {
          "font": {
           "size": 16
          },
          "showarrow": false,
          "text": "Topic 9",
          "x": 0.36250000000000004,
          "xanchor": "center",
          "xref": "paper",
          "y": 0.568,
          "yanchor": "bottom",
          "yref": "paper"
         },
         {
          "font": {
           "size": 16
          },
          "showarrow": false,
          "text": "Topic 10",
          "x": 0.6375000000000001,
          "xanchor": "center",
          "xref": "paper",
          "y": 0.568,
          "yanchor": "bottom",
          "yref": "paper"
         },
         {
          "font": {
           "size": 16
          },
          "showarrow": false,
          "text": "Topic 11",
          "x": 0.9125,
          "xanchor": "center",
          "xref": "paper",
          "y": 0.568,
          "yanchor": "bottom",
          "yref": "paper"
         },
         {
          "font": {
           "size": 16
          },
          "showarrow": false,
          "text": "Topic 12",
          "x": 0.0875,
          "xanchor": "center",
          "xref": "paper",
          "y": 0.352,
          "yanchor": "bottom",
          "yref": "paper"
         },
         {
          "font": {
           "size": 16
          },
          "showarrow": false,
          "text": "Topic 13",
          "x": 0.36250000000000004,
          "xanchor": "center",
          "xref": "paper",
          "y": 0.352,
          "yanchor": "bottom",
          "yref": "paper"
         },
         {
          "font": {
           "size": 16
          },
          "showarrow": false,
          "text": "Topic 14",
          "x": 0.6375000000000001,
          "xanchor": "center",
          "xref": "paper",
          "y": 0.352,
          "yanchor": "bottom",
          "yref": "paper"
         },
         {
          "font": {
           "size": 16
          },
          "showarrow": false,
          "text": "Topic 15",
          "x": 0.9125,
          "xanchor": "center",
          "xref": "paper",
          "y": 0.352,
          "yanchor": "bottom",
          "yref": "paper"
         },
         {
          "font": {
           "size": 16
          },
          "showarrow": false,
          "text": "Topic 16",
          "x": 0.0875,
          "xanchor": "center",
          "xref": "paper",
          "y": 0.13599999999999998,
          "yanchor": "bottom",
          "yref": "paper"
         }
        ],
        "height": 1250,
        "hoverlabel": {
         "bgcolor": "white",
         "font": {
          "family": "Rockwell",
          "size": 16
         }
        },
        "showlegend": false,
        "template": {
         "data": {
          "bar": [
           {
            "error_x": {
             "color": "#2a3f5f"
            },
            "error_y": {
             "color": "#2a3f5f"
            },
            "marker": {
             "line": {
              "color": "white",
              "width": 0.5
             },
             "pattern": {
              "fillmode": "overlay",
              "size": 10,
              "solidity": 0.2
             }
            },
            "type": "bar"
           }
          ],
          "barpolar": [
           {
            "marker": {
             "line": {
              "color": "white",
              "width": 0.5
             },
             "pattern": {
              "fillmode": "overlay",
              "size": 10,
              "solidity": 0.2
             }
            },
            "type": "barpolar"
           }
          ],
          "carpet": [
           {
            "aaxis": {
             "endlinecolor": "#2a3f5f",
             "gridcolor": "#C8D4E3",
             "linecolor": "#C8D4E3",
             "minorgridcolor": "#C8D4E3",
             "startlinecolor": "#2a3f5f"
            },
            "baxis": {
             "endlinecolor": "#2a3f5f",
             "gridcolor": "#C8D4E3",
             "linecolor": "#C8D4E3",
             "minorgridcolor": "#C8D4E3",
             "startlinecolor": "#2a3f5f"
            },
            "type": "carpet"
           }
          ],
          "choropleth": [
           {
            "colorbar": {
             "outlinewidth": 0,
             "ticks": ""
            },
            "type": "choropleth"
           }
          ],
          "contour": [
           {
            "colorbar": {
             "outlinewidth": 0,
             "ticks": ""
            },
            "colorscale": [
             [
              0,
              "#0d0887"
             ],
             [
              0.1111111111111111,
              "#46039f"
             ],
             [
              0.2222222222222222,
              "#7201a8"
             ],
             [
              0.3333333333333333,
              "#9c179e"
             ],
             [
              0.4444444444444444,
              "#bd3786"
             ],
             [
              0.5555555555555556,
              "#d8576b"
             ],
             [
              0.6666666666666666,
              "#ed7953"
             ],
             [
              0.7777777777777778,
              "#fb9f3a"
             ],
             [
              0.8888888888888888,
              "#fdca26"
             ],
             [
              1,
              "#f0f921"
             ]
            ],
            "type": "contour"
           }
          ],
          "contourcarpet": [
           {
            "colorbar": {
             "outlinewidth": 0,
             "ticks": ""
            },
            "type": "contourcarpet"
           }
          ],
          "heatmap": [
           {
            "colorbar": {
             "outlinewidth": 0,
             "ticks": ""
            },
            "colorscale": [
             [
              0,
              "#0d0887"
             ],
             [
              0.1111111111111111,
              "#46039f"
             ],
             [
              0.2222222222222222,
              "#7201a8"
             ],
             [
              0.3333333333333333,
              "#9c179e"
             ],
             [
              0.4444444444444444,
              "#bd3786"
             ],
             [
              0.5555555555555556,
              "#d8576b"
             ],
             [
              0.6666666666666666,
              "#ed7953"
             ],
             [
              0.7777777777777778,
              "#fb9f3a"
             ],
             [
              0.8888888888888888,
              "#fdca26"
             ],
             [
              1,
              "#f0f921"
             ]
            ],
            "type": "heatmap"
           }
          ],
          "heatmapgl": [
           {
            "colorbar": {
             "outlinewidth": 0,
             "ticks": ""
            },
            "colorscale": [
             [
              0,
              "#0d0887"
             ],
             [
              0.1111111111111111,
              "#46039f"
             ],
             [
              0.2222222222222222,
              "#7201a8"
             ],
             [
              0.3333333333333333,
              "#9c179e"
             ],
             [
              0.4444444444444444,
              "#bd3786"
             ],
             [
              0.5555555555555556,
              "#d8576b"
             ],
             [
              0.6666666666666666,
              "#ed7953"
             ],
             [
              0.7777777777777778,
              "#fb9f3a"
             ],
             [
              0.8888888888888888,
              "#fdca26"
             ],
             [
              1,
              "#f0f921"
             ]
            ],
            "type": "heatmapgl"
           }
          ],
          "histogram": [
           {
            "marker": {
             "pattern": {
              "fillmode": "overlay",
              "size": 10,
              "solidity": 0.2
             }
            },
            "type": "histogram"
           }
          ],
          "histogram2d": [
           {
            "colorbar": {
             "outlinewidth": 0,
             "ticks": ""
            },
            "colorscale": [
             [
              0,
              "#0d0887"
             ],
             [
              0.1111111111111111,
              "#46039f"
             ],
             [
              0.2222222222222222,
              "#7201a8"
             ],
             [
              0.3333333333333333,
              "#9c179e"
             ],
             [
              0.4444444444444444,
              "#bd3786"
             ],
             [
              0.5555555555555556,
              "#d8576b"
             ],
             [
              0.6666666666666666,
              "#ed7953"
             ],
             [
              0.7777777777777778,
              "#fb9f3a"
             ],
             [
              0.8888888888888888,
              "#fdca26"
             ],
             [
              1,
              "#f0f921"
             ]
            ],
            "type": "histogram2d"
           }
          ],
          "histogram2dcontour": [
           {
            "colorbar": {
             "outlinewidth": 0,
             "ticks": ""
            },
            "colorscale": [
             [
              0,
              "#0d0887"
             ],
             [
              0.1111111111111111,
              "#46039f"
             ],
             [
              0.2222222222222222,
              "#7201a8"
             ],
             [
              0.3333333333333333,
              "#9c179e"
             ],
             [
              0.4444444444444444,
              "#bd3786"
             ],
             [
              0.5555555555555556,
              "#d8576b"
             ],
             [
              0.6666666666666666,
              "#ed7953"
             ],
             [
              0.7777777777777778,
              "#fb9f3a"
             ],
             [
              0.8888888888888888,
              "#fdca26"
             ],
             [
              1,
              "#f0f921"
             ]
            ],
            "type": "histogram2dcontour"
           }
          ],
          "mesh3d": [
           {
            "colorbar": {
             "outlinewidth": 0,
             "ticks": ""
            },
            "type": "mesh3d"
           }
          ],
          "parcoords": [
           {
            "line": {
             "colorbar": {
              "outlinewidth": 0,
              "ticks": ""
             }
            },
            "type": "parcoords"
           }
          ],
          "pie": [
           {
            "automargin": true,
            "type": "pie"
           }
          ],
          "scatter": [
           {
            "fillpattern": {
             "fillmode": "overlay",
             "size": 10,
             "solidity": 0.2
            },
            "type": "scatter"
           }
          ],
          "scatter3d": [
           {
            "line": {
             "colorbar": {
              "outlinewidth": 0,
              "ticks": ""
             }
            },
            "marker": {
             "colorbar": {
              "outlinewidth": 0,
              "ticks": ""
             }
            },
            "type": "scatter3d"
           }
          ],
          "scattercarpet": [
           {
            "marker": {
             "colorbar": {
              "outlinewidth": 0,
              "ticks": ""
             }
            },
            "type": "scattercarpet"
           }
          ],
          "scattergeo": [
           {
            "marker": {
             "colorbar": {
              "outlinewidth": 0,
              "ticks": ""
             }
            },
            "type": "scattergeo"
           }
          ],
          "scattergl": [
           {
            "marker": {
             "colorbar": {
              "outlinewidth": 0,
              "ticks": ""
             }
            },
            "type": "scattergl"
           }
          ],
          "scattermapbox": [
           {
            "marker": {
             "colorbar": {
              "outlinewidth": 0,
              "ticks": ""
             }
            },
            "type": "scattermapbox"
           }
          ],
          "scatterpolar": [
           {
            "marker": {
             "colorbar": {
              "outlinewidth": 0,
              "ticks": ""
             }
            },
            "type": "scatterpolar"
           }
          ],
          "scatterpolargl": [
           {
            "marker": {
             "colorbar": {
              "outlinewidth": 0,
              "ticks": ""
             }
            },
            "type": "scatterpolargl"
           }
          ],
          "scatterternary": [
           {
            "marker": {
             "colorbar": {
              "outlinewidth": 0,
              "ticks": ""
             }
            },
            "type": "scatterternary"
           }
          ],
          "surface": [
           {
            "colorbar": {
             "outlinewidth": 0,
             "ticks": ""
            },
            "colorscale": [
             [
              0,
              "#0d0887"
             ],
             [
              0.1111111111111111,
              "#46039f"
             ],
             [
              0.2222222222222222,
              "#7201a8"
             ],
             [
              0.3333333333333333,
              "#9c179e"
             ],
             [
              0.4444444444444444,
              "#bd3786"
             ],
             [
              0.5555555555555556,
              "#d8576b"
             ],
             [
              0.6666666666666666,
              "#ed7953"
             ],
             [
              0.7777777777777778,
              "#fb9f3a"
             ],
             [
              0.8888888888888888,
              "#fdca26"
             ],
             [
              1,
              "#f0f921"
             ]
            ],
            "type": "surface"
           }
          ],
          "table": [
           {
            "cells": {
             "fill": {
              "color": "#EBF0F8"
             },
             "line": {
              "color": "white"
             }
            },
            "header": {
             "fill": {
              "color": "#C8D4E3"
             },
             "line": {
              "color": "white"
             }
            },
            "type": "table"
           }
          ]
         },
         "layout": {
          "annotationdefaults": {
           "arrowcolor": "#2a3f5f",
           "arrowhead": 0,
           "arrowwidth": 1
          },
          "autotypenumbers": "strict",
          "coloraxis": {
           "colorbar": {
            "outlinewidth": 0,
            "ticks": ""
           }
          },
          "colorscale": {
           "diverging": [
            [
             0,
             "#8e0152"
            ],
            [
             0.1,
             "#c51b7d"
            ],
            [
             0.2,
             "#de77ae"
            ],
            [
             0.3,
             "#f1b6da"
            ],
            [
             0.4,
             "#fde0ef"
            ],
            [
             0.5,
             "#f7f7f7"
            ],
            [
             0.6,
             "#e6f5d0"
            ],
            [
             0.7,
             "#b8e186"
            ],
            [
             0.8,
             "#7fbc41"
            ],
            [
             0.9,
             "#4d9221"
            ],
            [
             1,
             "#276419"
            ]
           ],
           "sequential": [
            [
             0,
             "#0d0887"
            ],
            [
             0.1111111111111111,
             "#46039f"
            ],
            [
             0.2222222222222222,
             "#7201a8"
            ],
            [
             0.3333333333333333,
             "#9c179e"
            ],
            [
             0.4444444444444444,
             "#bd3786"
            ],
            [
             0.5555555555555556,
             "#d8576b"
            ],
            [
             0.6666666666666666,
             "#ed7953"
            ],
            [
             0.7777777777777778,
             "#fb9f3a"
            ],
            [
             0.8888888888888888,
             "#fdca26"
            ],
            [
             1,
             "#f0f921"
            ]
           ],
           "sequentialminus": [
            [
             0,
             "#0d0887"
            ],
            [
             0.1111111111111111,
             "#46039f"
            ],
            [
             0.2222222222222222,
             "#7201a8"
            ],
            [
             0.3333333333333333,
             "#9c179e"
            ],
            [
             0.4444444444444444,
             "#bd3786"
            ],
            [
             0.5555555555555556,
             "#d8576b"
            ],
            [
             0.6666666666666666,
             "#ed7953"
            ],
            [
             0.7777777777777778,
             "#fb9f3a"
            ],
            [
             0.8888888888888888,
             "#fdca26"
            ],
            [
             1,
             "#f0f921"
            ]
           ]
          },
          "colorway": [
           "#636efa",
           "#EF553B",
           "#00cc96",
           "#ab63fa",
           "#FFA15A",
           "#19d3f3",
           "#FF6692",
           "#B6E880",
           "#FF97FF",
           "#FECB52"
          ],
          "font": {
           "color": "#2a3f5f"
          },
          "geo": {
           "bgcolor": "white",
           "lakecolor": "white",
           "landcolor": "white",
           "showlakes": true,
           "showland": true,
           "subunitcolor": "#C8D4E3"
          },
          "hoverlabel": {
           "align": "left"
          },
          "hovermode": "closest",
          "mapbox": {
           "style": "light"
          },
          "paper_bgcolor": "white",
          "plot_bgcolor": "white",
          "polar": {
           "angularaxis": {
            "gridcolor": "#EBF0F8",
            "linecolor": "#EBF0F8",
            "ticks": ""
           },
           "bgcolor": "white",
           "radialaxis": {
            "gridcolor": "#EBF0F8",
            "linecolor": "#EBF0F8",
            "ticks": ""
           }
          },
          "scene": {
           "xaxis": {
            "backgroundcolor": "white",
            "gridcolor": "#DFE8F3",
            "gridwidth": 2,
            "linecolor": "#EBF0F8",
            "showbackground": true,
            "ticks": "",
            "zerolinecolor": "#EBF0F8"
           },
           "yaxis": {
            "backgroundcolor": "white",
            "gridcolor": "#DFE8F3",
            "gridwidth": 2,
            "linecolor": "#EBF0F8",
            "showbackground": true,
            "ticks": "",
            "zerolinecolor": "#EBF0F8"
           },
           "zaxis": {
            "backgroundcolor": "white",
            "gridcolor": "#DFE8F3",
            "gridwidth": 2,
            "linecolor": "#EBF0F8",
            "showbackground": true,
            "ticks": "",
            "zerolinecolor": "#EBF0F8"
           }
          },
          "shapedefaults": {
           "line": {
            "color": "#2a3f5f"
           }
          },
          "ternary": {
           "aaxis": {
            "gridcolor": "#DFE8F3",
            "linecolor": "#A2B1C6",
            "ticks": ""
           },
           "baxis": {
            "gridcolor": "#DFE8F3",
            "linecolor": "#A2B1C6",
            "ticks": ""
           },
           "bgcolor": "white",
           "caxis": {
            "gridcolor": "#DFE8F3",
            "linecolor": "#A2B1C6",
            "ticks": ""
           }
          },
          "title": {
           "x": 0.05
          },
          "xaxis": {
           "automargin": true,
           "gridcolor": "#EBF0F8",
           "linecolor": "#EBF0F8",
           "ticks": "",
           "title": {
            "standoff": 15
           },
           "zerolinecolor": "#EBF0F8",
           "zerolinewidth": 2
          },
          "yaxis": {
           "automargin": true,
           "gridcolor": "#EBF0F8",
           "linecolor": "#EBF0F8",
           "ticks": "",
           "title": {
            "standoff": 15
           },
           "zerolinecolor": "#EBF0F8",
           "zerolinewidth": 2
          }
         }
        },
        "title": {
         "font": {
          "color": "Black",
          "size": 22
         },
         "text": "<b>Topic Word Scores",
         "x": 0.5,
         "xanchor": "center",
         "yanchor": "top"
        },
        "width": 1000,
        "xaxis": {
         "anchor": "y",
         "domain": [
          0,
          0.175
         ],
         "showgrid": true
        },
        "xaxis10": {
         "anchor": "y10",
         "domain": [
          0.275,
          0.45
         ],
         "showgrid": true
        },
        "xaxis11": {
         "anchor": "y11",
         "domain": [
          0.55,
          0.7250000000000001
         ],
         "showgrid": true
        },
        "xaxis12": {
         "anchor": "y12",
         "domain": [
          0.825,
          1
         ],
         "showgrid": true
        },
        "xaxis13": {
         "anchor": "y13",
         "domain": [
          0,
          0.175
         ],
         "showgrid": true
        },
        "xaxis14": {
         "anchor": "y14",
         "domain": [
          0.275,
          0.45
         ],
         "showgrid": true
        },
        "xaxis15": {
         "anchor": "y15",
         "domain": [
          0.55,
          0.7250000000000001
         ],
         "showgrid": true
        },
        "xaxis16": {
         "anchor": "y16",
         "domain": [
          0.825,
          1
         ],
         "showgrid": true
        },
        "xaxis17": {
         "anchor": "y17",
         "domain": [
          0,
          0.175
         ],
         "showgrid": true
        },
        "xaxis18": {
         "anchor": "y18",
         "domain": [
          0.275,
          0.45
         ],
         "showgrid": true
        },
        "xaxis19": {
         "anchor": "y19",
         "domain": [
          0.55,
          0.7250000000000001
         ],
         "showgrid": true
        },
        "xaxis2": {
         "anchor": "y2",
         "domain": [
          0.275,
          0.45
         ],
         "showgrid": true
        },
        "xaxis20": {
         "anchor": "y20",
         "domain": [
          0.825,
          1
         ],
         "showgrid": true
        },
        "xaxis3": {
         "anchor": "y3",
         "domain": [
          0.55,
          0.7250000000000001
         ],
         "showgrid": true
        },
        "xaxis4": {
         "anchor": "y4",
         "domain": [
          0.825,
          1
         ],
         "showgrid": true
        },
        "xaxis5": {
         "anchor": "y5",
         "domain": [
          0,
          0.175
         ],
         "showgrid": true
        },
        "xaxis6": {
         "anchor": "y6",
         "domain": [
          0.275,
          0.45
         ],
         "showgrid": true
        },
        "xaxis7": {
         "anchor": "y7",
         "domain": [
          0.55,
          0.7250000000000001
         ],
         "showgrid": true
        },
        "xaxis8": {
         "anchor": "y8",
         "domain": [
          0.825,
          1
         ],
         "showgrid": true
        },
        "xaxis9": {
         "anchor": "y9",
         "domain": [
          0,
          0.175
         ],
         "showgrid": true
        },
        "yaxis": {
         "anchor": "x",
         "domain": [
          0.8639999999999999,
          0.9999999999999999
         ],
         "showgrid": true
        },
        "yaxis10": {
         "anchor": "x10",
         "domain": [
          0.43199999999999994,
          0.568
         ],
         "showgrid": true
        },
        "yaxis11": {
         "anchor": "x11",
         "domain": [
          0.43199999999999994,
          0.568
         ],
         "showgrid": true
        },
        "yaxis12": {
         "anchor": "x12",
         "domain": [
          0.43199999999999994,
          0.568
         ],
         "showgrid": true
        },
        "yaxis13": {
         "anchor": "x13",
         "domain": [
          0.21599999999999997,
          0.352
         ],
         "showgrid": true
        },
        "yaxis14": {
         "anchor": "x14",
         "domain": [
          0.21599999999999997,
          0.352
         ],
         "showgrid": true
        },
        "yaxis15": {
         "anchor": "x15",
         "domain": [
          0.21599999999999997,
          0.352
         ],
         "showgrid": true
        },
        "yaxis16": {
         "anchor": "x16",
         "domain": [
          0.21599999999999997,
          0.352
         ],
         "showgrid": true
        },
        "yaxis17": {
         "anchor": "x17",
         "domain": [
          0,
          0.13599999999999998
         ],
         "showgrid": true
        },
        "yaxis18": {
         "anchor": "x18",
         "domain": [
          0,
          0.13599999999999998
         ],
         "showgrid": true
        },
        "yaxis19": {
         "anchor": "x19",
         "domain": [
          0,
          0.13599999999999998
         ],
         "showgrid": true
        },
        "yaxis2": {
         "anchor": "x2",
         "domain": [
          0.8639999999999999,
          0.9999999999999999
         ],
         "showgrid": true
        },
        "yaxis20": {
         "anchor": "x20",
         "domain": [
          0,
          0.13599999999999998
         ],
         "showgrid": true
        },
        "yaxis3": {
         "anchor": "x3",
         "domain": [
          0.8639999999999999,
          0.9999999999999999
         ],
         "showgrid": true
        },
        "yaxis4": {
         "anchor": "x4",
         "domain": [
          0.8639999999999999,
          0.9999999999999999
         ],
         "showgrid": true
        },
        "yaxis5": {
         "anchor": "x5",
         "domain": [
          0.6479999999999999,
          0.7839999999999999
         ],
         "showgrid": true
        },
        "yaxis6": {
         "anchor": "x6",
         "domain": [
          0.6479999999999999,
          0.7839999999999999
         ],
         "showgrid": true
        },
        "yaxis7": {
         "anchor": "x7",
         "domain": [
          0.6479999999999999,
          0.7839999999999999
         ],
         "showgrid": true
        },
        "yaxis8": {
         "anchor": "x8",
         "domain": [
          0.6479999999999999,
          0.7839999999999999
         ],
         "showgrid": true
        },
        "yaxis9": {
         "anchor": "x9",
         "domain": [
          0.43199999999999994,
          0.568
         ],
         "showgrid": true
        }
       }
      }
     },
     "metadata": {},
     "output_type": "display_data"
    }
   ],
   "source": [
    "topic_model.global_model.visualize_barchart(top_n_topics=18, n_words=20)"
   ]
  },
  {
   "cell_type": "code",
   "execution_count": 26,
   "metadata": {},
   "outputs": [
    {
     "name": "stderr",
     "output_type": "stream",
     "text": [
      "Batches: 100%|██████████| 1/1 [00:00<00:00, 50.25it/s]\n",
      "2022-05-07 11:23:49,659 - BERTopic - Reduced dimensionality\n",
      "2022-05-07 11:23:49,663 - BERTopic - Calculated probabilities with HDBSCAN\n",
      "2022-05-07 11:23:49,664 - BERTopic - Predicted clusters\n"
     ]
    }
   ],
   "source": [
    "topic_model.topics_association = [3, 3, 11, 16, 9, 5, 14, 15, 2, 4, 8, 1, 6, 7, 13, 12, 10]\n",
    "topics, probs = topic_model.global_model.transform(natureShort[0])"
   ]
  },
  {
   "cell_type": "code",
   "execution_count": null,
   "metadata": {},
   "outputs": [],
   "source": [
    "topic_model.visualize_barchart(top_n_topics=17, n_words=20)"
   ]
  },
  {
   "cell_type": "code",
   "execution_count": null,
   "metadata": {},
   "outputs": [],
   "source": [
    "topics, probs = topic_model.transform(natureExt)"
   ]
  },
  {
   "cell_type": "code",
   "execution_count": null,
   "metadata": {},
   "outputs": [],
   "source": [
    "docs = range(60)\n",
    "for doc in docs:\n",
    "    probs_ascii = [\"x{}:{:.3f}\".format(ii, prob) for ii, prob in zip(range(len(list(probs[0]))), probs[doc])]\n",
    "    print(['|'.join(probs_ascii), sdgs_natureAll[doc]])"
   ]
  },
  {
   "cell_type": "code",
   "execution_count": null,
   "metadata": {},
   "outputs": [],
   "source": [
    "\n",
    "# freq = topic_model.get_topic_info(); freq.head(10)\n",
    "topic_model.visualize_topics()\n",
    "documents = topic_model.get_representative_docs(topic=None) # to understand the\n",
    "topic_model.visualize_distribution(probs[2], min_probability=0.015)"
   ]
  },
  {
   "cell_type": "code",
   "execution_count": null,
   "metadata": {},
   "outputs": [],
   "source": [
    "probs[4]"
   ]
  },
  {
   "cell_type": "code",
   "execution_count": null,
   "metadata": {},
   "outputs": [],
   "source": [
    "topic_model.visualize_hierarchy(top_n_topics=50)"
   ]
  },
  {
   "cell_type": "code",
   "execution_count": null,
   "metadata": {},
   "outputs": [],
   "source": [
    "topic_model.visualize_heatmap(n_clusters=15, width=1000, height=1000)"
   ]
  },
  {
   "cell_type": "code",
   "execution_count": null,
   "metadata": {},
   "outputs": [],
   "source": [
    "# combine with the elbow method to adjust the best number of words per topic\n",
    "topic_model.visualize_term_rank()"
   ]
  },
  {
   "cell_type": "code",
   "execution_count": null,
   "metadata": {},
   "outputs": [],
   "source": [
    "# FINE TUNE THE MODEL FOR BETTER UNDERSTANDING\n",
    "topic_model.update_topics(docs, topics, n_gram_range=(1, 2))\n",
    "new_topics, new_probs = topic_model.reduce_topics(docs, topics, probs, nr_topics=60)\n",
    "topic_model.save(\"my_model\")\t\n",
    "my_model = BERTopic.load(\"my_model\")"
   ]
  }
 ],
 "metadata": {
  "interpreter": {
   "hash": "fbb8ab8bdcac1ab2add1a949848f5c026f8bbe60d997c6f523fcd5fccd91223f"
  },
  "kernelspec": {
   "display_name": "Python 3.9.12 64-bit (windows store)",
   "language": "python",
   "name": "python3"
  },
  "language_info": {
   "codemirror_mode": {
    "name": "ipython",
    "version": 3
   },
   "file_extension": ".py",
   "mimetype": "text/x-python",
   "name": "python",
   "nbconvert_exporter": "python",
   "pygments_lexer": "ipython3",
   "version": "3.9.12"
  },
  "orig_nbformat": 4
 },
 "nbformat": 4,
 "nbformat_minor": 2
}
